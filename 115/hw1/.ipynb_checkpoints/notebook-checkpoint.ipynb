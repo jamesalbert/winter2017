{
 "cells": [
  {
   "cell_type": "code",
   "execution_count": 2,
   "metadata": {
    "collapsed": false
   },
   "outputs": [
    {
     "data": {
      "image/png": "[encoded data removed]",
      "text/plain": [
       "<matplotlib.figure.Figure at 0x103b743c8>"
      ]
     },
     "metadata": {},
     "output_type": "display_data"
    },
    {
     "name": "stdout",
     "output_type": "stream",
     "text": [
      "--- Stats\n",
      "trains served: 718\n",
      "average # trains in system: 0.41\n",
      "max # trains in system: 6\n",
      "There were 0 trains in the system 1916 times out of 5242 events\n",
      "There were 1 trains in the system 1834 times out of 5242 events\n",
      "There were 2 trains in the system 516 times out of 5242 events\n",
      "There were 3 trains in the system 176 times out of 5242 events\n",
      "There were 4 trains in the system 59 times out of 5242 events\n",
      "There were 5 trains in the system 20 times out of 5242 events\n",
      "There were 6 trains in the system 3 times out of 5242 events\n",
      "total dock idle: 1.47%\n",
      "total dock busy: 36.81%\n",
      "total dock hogged-out: 0.52%\n",
      "maximum # trains in queue: 5 trains\n",
      "average time in queue: 2.63h\n"
     ]
    }
   ],
   "source": [
    "from lib import *\n",
    "\n",
    "Simulator(mu=10, limit=7200, verbose=False).start().analyze()"
   ]
  },
  {
   "cell_type": "markdown",
   "metadata": {},
   "source": []
  }
 ],
 "metadata": {
  "kernelspec": {
   "display_name": "Python 3",
   "language": "python",
   "name": "python3"
  },
  "language_info": {
   "codemirror_mode": {
    "name": "ipython",
    "version": 3
   },
   "file_extension": ".py",
   "mimetype": "text/x-python",
   "name": "python",
   "nbconvert_exporter": "python",
   "pygments_lexer": "ipython3",
   "version": "3.6.0"
  }
 },
 "nbformat": 4,
 "nbformat_minor": 2
}
